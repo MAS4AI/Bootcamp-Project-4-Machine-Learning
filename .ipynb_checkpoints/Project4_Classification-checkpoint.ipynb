{
 "cells": [
  {
   "cell_type": "code",
   "execution_count": null,
   "id": "dc856a86",
   "metadata": {},
   "outputs": [],
   "source": [
    "# To ignore warnings\n",
    "import warnings\n",
    "warnings.filterwarnings(\"ignore\")\n",
    "import pandas as pd\n",
    "import numpy as np\n",
    "import matplotlib.pyplot as plt\n",
    "import seaborn as sns\n",
    "%matplotlib inline\n",
    "from sklearn import datasets\n",
    "import seaborn as sns\n",
    "from sklearn.model_selection import train_test_split\n",
    "from sklearn.linear_model import LinearRegression\n",
    "import sklearn.metrics as metrics\n",
    "import plotly.express as px\n",
    "from sklearn.ensemble import GradientBoostingRegressor\n",
    "from sklearn.ensemble import RandomForestRegressor\n",
    "from sklearn.metrics import mean_squared_error, mean_absolute_error, r2_score"
   ]
  },
  {
   "cell_type": "code",
   "execution_count": null,
   "id": "a889395c",
   "metadata": {},
   "outputs": [],
   "source": [
    "DF = pd.read_csv(\"Train.csv\")\n",
    "DF"
   ]
  },
  {
   "cell_type": "code",
   "execution_count": null,
   "id": "2af93487",
   "metadata": {},
   "outputs": [],
   "source": [
    "DF.shape"
   ]
  },
  {
   "cell_type": "code",
   "execution_count": null,
   "id": "7e174ea9",
   "metadata": {},
   "outputs": [],
   "source": [
    "DF.info() # we have to convert each object to int "
   ]
  },
  {
   "cell_type": "code",
   "execution_count": null,
   "id": "61370902",
   "metadata": {},
   "outputs": [],
   "source": [
    "DF.describe()"
   ]
  },
  {
   "cell_type": "code",
   "execution_count": null,
   "id": "56e6dc01",
   "metadata": {},
   "outputs": [],
   "source": [
    "DF.isnull().sum()"
   ]
  },
  {
   "cell_type": "code",
   "execution_count": null,
   "id": "eda857cd",
   "metadata": {},
   "outputs": [],
   "source": [
    "# for some reason there is no color here ):\n",
    "bar_fig = px.bar(data_frame=DF, x='Warehouse_block',y='Reached.on.Time_Y.N', title='Warehouse Block Distribution',color='Warehouse_block')\n",
    "bar_fig.show()\n",
    "\n",
    "hist_fig = px.histogram(data_frame=DF, x='Customer_care_calls', title='Customer care calls')\n",
    "hist_fig.show()\n",
    "\n",
    "box_fig = px.box(data_frame=DF, y='Prior_purchases', title='Prior Purchases')\n",
    "box_fig.show()\n",
    "\n",
    "pie_fig = px.pie(data_frame=DF, names='Reached.on.Time_Y.N', title='Delivery on time')\n",
    "pie_fig.show()\n"
   ]
  },
  {
   "cell_type": "code",
   "execution_count": null,
   "id": "955a487c",
   "metadata": {},
   "outputs": [],
   "source": [
    "DF.columns"
   ]
  },
  {
   "cell_type": "code",
   "execution_count": null,
   "id": "7cac7872",
   "metadata": {},
   "outputs": [],
   "source": [
    "#droping id \n",
    "DF = DF.drop('ID', axis=1)\n",
    "print('shape:', DF.shape)\n",
    "DF.columns"
   ]
  },
  {
   "cell_type": "code",
   "execution_count": null,
   "id": "3e9a95e9",
   "metadata": {},
   "outputs": [],
   "source": [
    "#what need to to be converted to numerical values for the machine learning \n",
    "print(DF['Product_importance'].unique())\n",
    "print(DF['Warehouse_block'].unique())\n",
    "print(DF['Gender'].unique())\n",
    "print(DF['Mode_of_Shipment'].unique())"
   ]
  },
  {
   "cell_type": "code",
   "execution_count": null,
   "id": "fd69dfb8",
   "metadata": {},
   "outputs": [],
   "source": [
    "DF['Gender'] = DF['Gender'].map({'F': 0, 'M': 1})\n",
    "DF['Gender'].unique()"
   ]
  },
  {
   "cell_type": "code",
   "execution_count": null,
   "id": "48ce2a3a",
   "metadata": {},
   "outputs": [],
   "source": [
    "DF['Warehouse_block'] = DF['Warehouse_block'].map({'A': 0, 'B': 1, 'C': 2, 'D': 3, 'F': 4})\n",
    "DF['Warehouse_block'].unique()"
   ]
  },
  {
   "cell_type": "code",
   "execution_count": null,
   "id": "6d945f2a",
   "metadata": {},
   "outputs": [],
   "source": [
    "DF['Mode_of_Shipment'] = DF['Mode_of_Shipment'].map({'Flight': 0, 'Ship': 1, 'Road': 2})\n",
    "DF['Mode_of_Shipment'].unique()"
   ]
  },
  {
   "cell_type": "code",
   "execution_count": null,
   "id": "901f5231",
   "metadata": {},
   "outputs": [],
   "source": [
    "DF['Product_importance'] = DF['Product_importance'].map({'low': 0, 'medium': 1, 'high': 2})\n",
    "DF['Product_importance'].unique()"
   ]
  },
  {
   "cell_type": "code",
   "execution_count": null,
   "id": "53058ac6",
   "metadata": {},
   "outputs": [],
   "source": [
    "DF['Weight_in_kg'] = DF['Weight_in_gms'] / 1000"
   ]
  },
  {
   "cell_type": "code",
   "execution_count": null,
   "id": "c6a33899",
   "metadata": {},
   "outputs": [],
   "source": [
    "DF"
   ]
  },
  {
   "cell_type": "code",
   "execution_count": null,
   "id": "6cc7cd91",
   "metadata": {},
   "outputs": [],
   "source": [
    "DF.info()"
   ]
  },
  {
   "cell_type": "code",
   "execution_count": null,
   "id": "cd960850",
   "metadata": {},
   "outputs": [],
   "source": [
    "plt.figure(figsize=(10, 8))\n",
    "sns.heatmap(DF.corr(),annot = True)"
   ]
  },
  {
   "cell_type": "code",
   "execution_count": null,
   "id": "593c4fbe",
   "metadata": {},
   "outputs": [],
   "source": [
    "DF.hist();"
   ]
  },
  {
   "cell_type": "markdown",
   "id": "3479c39e",
   "metadata": {},
   "source": [
    "# Classification"
   ]
  },
  {
   "cell_type": "code",
   "execution_count": null,
   "id": "1db4bd84",
   "metadata": {
    "scrolled": true
   },
   "outputs": [],
   "source": [
    "import pandas as pd\n",
    "from sklearn import preprocessing\n",
    "\n",
    "#Normalize the data\n",
    "\n",
    "values = DF.values #returns a numpy array\n",
    "min_max_scaler = preprocessing.MinMaxScaler()\n",
    "values_scaled = min_max_scaler.fit_transform(values)\n",
    "DF = pd.DataFrame(values_scaled, columns = ['Warehouse_block', 'Mode_of_Shipment', 'Customer_care_calls',\n",
    "       'Customer_rating', 'Cost_of_the_Product', 'Prior_purchases',\n",
    "       'Product_importance', 'Gender', 'Discount_offered', 'Weight_in_gms',\n",
    "       'Reached.on.Time_Y.N','Weight_in_kg'])\n",
    "DF"
   ]
  },
  {
   "cell_type": "code",
   "execution_count": null,
   "id": "744dfaf5",
   "metadata": {},
   "outputs": [],
   "source": [
    "import pandas\n",
    "import matplotlib.pyplot as plt\n",
    "from sklearn import model_selection\n",
    "from sklearn.linear_model import LogisticRegression\n",
    "from sklearn.tree import DecisionTreeClassifier\n",
    "from sklearn.neighbors import KNeighborsClassifier, KNeighborsRegressor\n",
    "from sklearn.discriminant_analysis import LinearDiscriminantAnalysis\n",
    "from sklearn.naive_bayes import GaussianNB\n",
    "from sklearn.svm import SVC\n",
    "from sklearn.ensemble import RandomForestClassifier\n",
    "from math import sqrt\n",
    "from sklearn import tree\n",
    "from sklearn.impute import KNNImputer\n",
    "\n",
    "from sklearn.preprocessing import OrdinalEncoder, LabelEncoder, StandardScaler \n",
    "from sklearn.model_selection import train_test_split, GridSearchCV, cross_val_score, KFold\n",
    "from sklearn.ensemble import RandomForestClassifier, GradientBoostingClassifier, AdaBoostClassifier, VotingClassifier, StackingClassifier\n",
    "\n",
    "from sklearn.metrics import *"
   ]
  },
  {
   "cell_type": "code",
   "execution_count": null,
   "id": "d0207a42",
   "metadata": {},
   "outputs": [],
   "source": [
    "def gridSearch(X_train , y_train, model, parameters):\n",
    "    gscv = GridSearchCV(estimator = model, \n",
    "                         param_grid = parameters, \n",
    "                         cv = 2)\n",
    "    return gscv"
   ]
  },
  {
   "cell_type": "code",
   "execution_count": null,
   "id": "a66f77ae",
   "metadata": {},
   "outputs": [],
   "source": [
    "def dispResults(modelGridSearch):\n",
    "    print(\"Results of the Grid Search for\",modelGridSearch,\": \\n\" )\n",
    "    print(\"The best estimator across all searched params:\\n\",modelGridSearch.best_estimator_)\n",
    "    print(\"The best score across all searched params:\\n\",modelGridSearch.best_score_)\n",
    "    print(\"The best parameters across all searched params:\\n\",modelGridSearch.best_params_)"
   ]
  },
  {
   "cell_type": "markdown",
   "id": "f894e2af",
   "metadata": {},
   "source": [
    "We implement the **Grid Search** technique explained in [projectpro.io.](https://www.projectpro.io/recipes/find-optimal-parameters-using-gridsearchcv) to find the best models parameters that give a more accurate prediction."
   ]
  },
  {
   "cell_type": "code",
   "execution_count": null,
   "id": "92f6d093",
   "metadata": {},
   "outputs": [],
   "source": [
    "def confusion_matrix_plot(y_test, y_pred):\n",
    "    c_matrix = confusion_matrix(y_test, y_pred)\n",
    "    c_matrix = np.rot90(c_matrix , 2)\n",
    "    conf_matrix = pd.DataFrame(data = c_matrix,columns = ['Predicted:1','Predicted:0'], index = ['Actual:1','Actual:0'])\n",
    "    sns.heatmap(conf_matrix, annot = True, fmt = 'd', cbar = False, \n",
    "                linewidths = 0.1, annot_kws = {'size':20})\n",
    "    plt.title('Confusion Matrix', fontsize = 15)"
   ]
  },
  {
   "cell_type": "markdown",
   "id": "eaa8ba05",
   "metadata": {},
   "source": [
    "# Define the models and their parameters for the the grid search"
   ]
  },
  {
   "cell_type": "code",
   "execution_count": null,
   "id": "8e8327f0",
   "metadata": {},
   "outputs": [],
   "source": [
    "GBC_model = GradientBoostingClassifier()\n",
    "GBC_parameters = {'learning_rate': [0.01,0.02,0.03],\n",
    "                  'subsample'    : [0.9, 0.5, 0.2],\n",
    "                  'n_estimators' : [100,500,1000],\n",
    "                  'max_depth'    : [4,6,8]\n",
    "                 }\n",
    "\n",
    "RF_model = RandomForestClassifier(random_state = 0)\n",
    "RF_parameters = {'n_estimators':[200,500],\n",
    "                 'criterion': ('gini','entropy'),\n",
    "                 'max_depth': [2, 3 ,4, 5, 6, 7, 8],\n",
    "                 'min_samples_split': [2, 9],\n",
    "                 'max_features': (\"auto\", \"sqrt\", \"log2\") \n",
    "                }\n",
    "\n",
    "KNN_model = KNeighborsClassifier()\n",
    "KNN_parameters ={'n_neighbors':[3,5,7,9,11]}\n",
    "\n",
    "modelsDic = {\"model\": [GBC_model, RF_model, KNN_model],\n",
    "             \"name\": [\"GradientBoosting\", \"RandomForest\", \"KNeighbors\"], \n",
    "             \"parameters\": [GBC_parameters, RF_parameters, KNN_parameters]}"
   ]
  },
  {
   "cell_type": "markdown",
   "id": "a728929f",
   "metadata": {},
   "source": [
    "# Split the data for the first feature"
   ]
  },
  {
   "cell_type": "code",
   "execution_count": null,
   "id": "4cf9f03f",
   "metadata": {},
   "outputs": [],
   "source": [
    "# Define the features and target variable\n",
    "X_1 = DF[['Warehouse_block', 'Mode_of_Shipment', 'Customer_care_calls', 'Customer_rating', 'Cost_of_the_Product', 'Prior_purchases', 'Product_importance', 'Gender', 'Discount_offered', 'Weight_in_gms', 'Weight_in_kg']]\n",
    "y_1 = DF['Reached.on.Time_Y.N']\n",
    "\n",
    "\n",
    "X_train_1, X_test_1, y_train_1, y_test_1 = train_test_split(\n",
    "    X_1, y_1, test_size=0.2, random_state=125\n",
    ")"
   ]
  },
  {
   "cell_type": "markdown",
   "id": "c10c3fbb",
   "metadata": {},
   "source": [
    "# Split the data for the second feature"
   ]
  },
  {
   "cell_type": "code",
   "execution_count": null,
   "id": "f22f3f33",
   "metadata": {},
   "outputs": [],
   "source": [
    "# Define the features and target variable\n",
    "X_2 = DF[['Warehouse_block', 'Mode_of_Shipment', 'Customer_care_calls', 'Customer_rating', 'Cost_of_the_Product', 'Prior_purchases', 'Gender', 'Discount_offered', 'Weight_in_gms', 'Weight_in_kg', 'Reached.on.Time_Y.N']]\n",
    "y_2 = DF['Product_importance']\n",
    "\n",
    "\n",
    "X_train_2, X_test_2, y_train_2, y_test_2 = train_test_split(\n",
    "    X_2, y_2, test_size=0.2, random_state=125\n",
    ")"
   ]
  },
  {
   "cell_type": "markdown",
   "id": "27e950ae",
   "metadata": {},
   "source": [
    "# Split the data for the third feature"
   ]
  },
  {
   "cell_type": "code",
   "execution_count": null,
   "id": "8309c83e",
   "metadata": {},
   "outputs": [],
   "source": [
    "# Define the features and target variable\n",
    "X_3 = DF[['Warehouse_block', 'Customer_care_calls', 'Customer_rating', 'Cost_of_the_Product', 'Prior_purchases', 'Product_importance', 'Gender', 'Discount_offered', 'Weight_in_gms', 'Weight_in_kg', 'Reached.on.Time_Y.N']]\n",
    "y_3 = DF['Mode_of_Shipment']\n",
    "\n",
    "\n",
    "X_train_3, X_test_3, y_train_3, y_test_3 = train_test_split(\n",
    "    X_3, y_3, test_size=0.2, random_state=125\n",
    ")"
   ]
  },
  {
   "cell_type": "markdown",
   "id": "191a9688",
   "metadata": {},
   "source": [
    "# Grid Search"
   ]
  },
  {
   "cell_type": "code",
   "execution_count": null,
   "id": "aa44f991",
   "metadata": {},
   "outputs": [],
   "source": [
    "def apply_GridSearch(X_train , y_train, modelsDic):\n",
    "    \n",
    "    GridSearchs = {}\n",
    "    for i in range(len(modelsDic[\"name\"])):\n",
    "        model = modelsDic[\"model\"][i]\n",
    "        name = modelsDic[\"name\"][i]\n",
    "        parameters = modelsDic[\"parameters\"][i]\n",
    "        \n",
    "        GridSearchs[str(name)+\"_GridSearch\"] = gridSearch(X_train , y_train, model, parameters)\n",
    "        \n",
    "    return GridSearchs"
   ]
  },
  {
   "cell_type": "code",
   "execution_count": null,
   "id": "7cf40e90",
   "metadata": {},
   "outputs": [],
   "source": [
    "def fit_models(modelsDic, GridSearchs, X_train, y_train):\n",
    "    \n",
    "    for i in range(len(modelsDic[\"name\"])):\n",
    "        name = modelsDic[\"name\"][i]\n",
    "        GridSearchs[str(name)+\"_GridSearch\"].fit(X_train, y_train)\n",
    "        dispResults(GridSearchs[str(name)+\"_GridSearch\"])"
   ]
  },
  {
   "cell_type": "code",
   "execution_count": null,
   "id": "0453feb8",
   "metadata": {},
   "outputs": [],
   "source": [
    "def predict_target(GridSearchs, modelsDic, X_train, X_test):\n",
    "    \n",
    "    predections={}\n",
    "    \n",
    "    for i in range(len(modelsDic[\"name\"])):\n",
    "        name = modelsDic[\"name\"][i]\n",
    "        predections[str(modelsDic[\"name\"][i])+\"_yTrain_pred\"] = GridSearchs[str(name)+\"_GridSearch\"].predict(X_train)\n",
    "        predections[str(modelsDic[\"name\"][i])+\"_yTest_pred\"] = GridSearchs[str(name)+\"_GridSearch\"].predict(X_test)\n",
    "        \n",
    "    return predections"
   ]
  },
  {
   "cell_type": "code",
   "execution_count": null,
   "id": "702cd237",
   "metadata": {},
   "outputs": [],
   "source": [
    "def evaluations(y_train, y_test, predections):\n",
    "    \n",
    "    predectionsKeys = list(predections_1.keys())\n",
    "    \n",
    "    GBC_yTrain_pred = predections[predectionsKeys[0]]\n",
    "    GBC_yTest_pred = predections[predectionsKeys[1]]\n",
    "\n",
    "    RF_yTrain_pred = predections[predectionsKeys[2]]\n",
    "    RF_yTest_pred = predections[predectionsKeys[3]]\n",
    "\n",
    "    KNN_yTrain_pred = predections[predectionsKeys[4]]\n",
    "    KNN_yTest_pred = predections[predectionsKeys[5]]\n",
    "        \n",
    "    results = pd.DataFrame({'Model':['Gradient Boosting', 'Random Forest', 'KNeighbors'],\n",
    "        'Train Accuracy':[accuracy_score(y_train, GBC_yTrain_pred), accuracy_score(y_train, RF_yTrain_pred), accuracy_score(y_train, KNN_yTrain_pred)],\n",
    "        'Test Accuracy':[accuracy_score(y_test, GBC_yTest_pred), accuracy_score(y_test, RF_yTest_pred), accuracy_score(y_test, KNN_yTest_pred)],                      \n",
    "        'f1-score':[f1_score(y_test, GBC_yTest_pred), f1_score(y_test, RF_yTest_pred), f1_score(y_test, KNN_yTest_pred)]})\n",
    "    \n",
    "    return results"
   ]
  },
  {
   "cell_type": "code",
   "execution_count": null,
   "id": "36b50fe3",
   "metadata": {},
   "outputs": [],
   "source": [
    "def confusion_plotting(y_test, predections):\n",
    "    \n",
    "    predectionsKeys = list(predections_1.keys())\n",
    "    \n",
    "    GBC_yTest_pred = predections[predectionsKeys[1]]\n",
    "    RF_yTest_pred = predections[predectionsKeys[3]]\n",
    "    KNN_yTest_pred = predections[predectionsKeys[5]]\n",
    "    \n",
    "    plt.figure(figsize=(13, 4))\n",
    "\n",
    "    plt.subplot(1,3,1)\n",
    "    confusion_matrix_plot(y_test, GBC_yTest_pred)\n",
    "    plt.title(\"Gradient Boosting\")\n",
    "\n",
    "    plt.subplot(1,3,2)\n",
    "    confusion_matrix_plot(y_test, RF_yTest_pred)\n",
    "    plt.title(\"Random Forest\")\n",
    "\n",
    "    plt.subplot(1,3,3)\n",
    "    confusion_matrix_plot(y_test, KNN_yTest_pred)\n",
    "    plt.title(\"KNeighbors\")\n",
    "\n",
    "    plt.suptitle(\"confusion matrices\")\n",
    "    plt.show()"
   ]
  },
  {
   "cell_type": "code",
   "execution_count": null,
   "id": "4d982147",
   "metadata": {},
   "outputs": [],
   "source": [
    "def compareModels(results_1):\n",
    "\n",
    "    indexOfMaxAccuracy = results_1['Test Accuracy'].idxmax() #index of the model that have the maximum accuracy\n",
    "    \n",
    "    bestModelForFeature_1 = results_1['Model'][indexOfMaxAccuracy]\n",
    "    \n",
    "    return bestModelForFeature_1"
   ]
  },
  {
   "cell_type": "markdown",
   "id": "260487fe",
   "metadata": {},
   "source": [
    "# Search for the best models parameters for the first feature"
   ]
  },
  {
   "cell_type": "code",
   "execution_count": null,
   "id": "99fcf1a7",
   "metadata": {},
   "outputs": [],
   "source": [
    "GridSearchs_1 = apply_GridSearch(X_train_1 , y_train_1, modelsDic)"
   ]
  },
  {
   "cell_type": "code",
   "execution_count": null,
   "id": "f2f49e76",
   "metadata": {},
   "outputs": [],
   "source": [
    "fit_models(modelsDic, GridSearchs_1, X_train_1, y_train_1)"
   ]
  },
  {
   "cell_type": "code",
   "execution_count": null,
   "id": "10f1770e",
   "metadata": {},
   "outputs": [],
   "source": [
    "predections_1 = predict_target(GridSearchs_1, modelsDic, X_train_1, X_test_1)"
   ]
  },
  {
   "cell_type": "code",
   "execution_count": null,
   "id": "8aa00998",
   "metadata": {},
   "outputs": [],
   "source": [
    "results_1 = evaluations(y_train_1, y_test_1, predections_1)"
   ]
  },
  {
   "cell_type": "code",
   "execution_count": null,
   "id": "c6df7f74",
   "metadata": {},
   "outputs": [],
   "source": [
    "confusion_plotting(y_test_1, predections_1)"
   ]
  },
  {
   "cell_type": "code",
   "execution_count": null,
   "id": "7c59d497",
   "metadata": {},
   "outputs": [],
   "source": [
    "bestModelForFeature_1 = compareModels(results_1) #name of the model\n",
    "bestModelForFeature_1"
   ]
  },
  {
   "cell_type": "markdown",
   "id": "4a790e7f",
   "metadata": {},
   "source": [
    "# Search for the best models parameters for the second feature"
   ]
  },
  {
   "cell_type": "code",
   "execution_count": null,
   "id": "f54d5d1b",
   "metadata": {},
   "outputs": [],
   "source": [
    "GridSearchs_2 = apply_GridSearch(X_train_2 , y_train_2, modelsDic)"
   ]
  },
  {
   "cell_type": "code",
   "execution_count": null,
   "id": "298602c6",
   "metadata": {},
   "outputs": [],
   "source": [
    "fit_models(modelsDic, GridSearchs_2, X_train_2, y_train_2)"
   ]
  },
  {
   "cell_type": "code",
   "execution_count": null,
   "id": "0e38b534",
   "metadata": {},
   "outputs": [],
   "source": [
    "predections_2 = predict_target(GridSearchs_2, modelsDic, X_train_2, X_test_2)"
   ]
  },
  {
   "cell_type": "code",
   "execution_count": null,
   "id": "7258f191",
   "metadata": {},
   "outputs": [],
   "source": [
    "results_2 = evaluations(y_train_2, y_test_2, predections_2)"
   ]
  },
  {
   "cell_type": "code",
   "execution_count": null,
   "id": "b87253ca",
   "metadata": {},
   "outputs": [],
   "source": [
    "confusion_plotting(y_test_2, predections_2)"
   ]
  },
  {
   "cell_type": "code",
   "execution_count": null,
   "id": "b5ac9595",
   "metadata": {},
   "outputs": [],
   "source": [
    "bestModelForFeature_2 = compareModels(results_2) #name of the model\n",
    "bestModelForFeature_2"
   ]
  },
  {
   "cell_type": "markdown",
   "id": "327efdc2",
   "metadata": {},
   "source": [
    "# Search for the best models parameters for the third feature"
   ]
  },
  {
   "cell_type": "code",
   "execution_count": null,
   "id": "1cf0ca8b",
   "metadata": {},
   "outputs": [],
   "source": [
    "GridSearchs_3 = apply_GridSearch(X_train_3 , y_train_3, modelsDic)"
   ]
  },
  {
   "cell_type": "code",
   "execution_count": null,
   "id": "9b79df95",
   "metadata": {},
   "outputs": [],
   "source": [
    "fit_models(modelsDic, GridSearchs_3, X_train_3, y_train_3)"
   ]
  },
  {
   "cell_type": "code",
   "execution_count": null,
   "id": "986ff7af",
   "metadata": {},
   "outputs": [],
   "source": [
    "predections_3 = predict_target(GridSearchs_3, modelsDic, X_train_3, X_test_3)"
   ]
  },
  {
   "cell_type": "code",
   "execution_count": null,
   "id": "b661f1d1",
   "metadata": {},
   "outputs": [],
   "source": [
    "results_3 = evaluations(y_train_3, y_test_3, predections_3)"
   ]
  },
  {
   "cell_type": "code",
   "execution_count": null,
   "id": "a2971cc8",
   "metadata": {},
   "outputs": [],
   "source": [
    "confusion_plotting(y_test_3, predections_3)"
   ]
  },
  {
   "cell_type": "code",
   "execution_count": null,
   "id": "34583a0a",
   "metadata": {},
   "outputs": [],
   "source": [
    "bestModelForFeature_3 = compareModels(results_3) #name of the model\n",
    "bestModelForFeature_3"
   ]
  },
  {
   "cell_type": "markdown",
   "id": "4e1f36cc",
   "metadata": {},
   "source": [
    "# define important functions for the program"
   ]
  },
  {
   "cell_type": "code",
   "execution_count": null,
   "id": "df547820",
   "metadata": {},
   "outputs": [],
   "source": [
    "#define a function that print the program options menu and take the user choice\n",
    "def menu():\n",
    "    \n",
    "    print(\"\\n|  What is your target? the feature that you want to predict about the shipment.                     |\",\n",
    "          \"\\n|                                                                                                    |\",\n",
    "          \"\\n|  Please enter your choice number:                                                                  |\",\n",
    "          \"\\n|                                                                                                    |\",\n",
    "          \"\\n|    1- Reached.on.Time_Y.N.                                                                         |\",\n",
    "          \"\\n|    2- Product_importance.                                                                          |\",\n",
    "          \"\\n|    3- Mode_of_Shipment.                                                                            |\",\n",
    "          \"\\n|    0- To exit the program.                                                                         |\",\n",
    "          \"\\n|                                                                                                    |\")    \n",
    "    \n",
    "    userChoice = int(input()) #get user choice\n",
    "    \n",
    "    return userChoice"
   ]
  },
  {
   "cell_type": "code",
   "execution_count": null,
   "id": "73324253",
   "metadata": {},
   "outputs": [],
   "source": [
    "#define a function that will predict the target feature based on user inputs\n",
    "def predictTarget(target):\n",
    "    \n",
    "    if target == \"Reached.on.Time_Y.N\":\n",
    "        bestModel = bestModelForFeature_1\n",
    "        \n",
    "    elif target == \"Product_importance\":\n",
    "        bestModel = bestModelForFeature_2\n",
    "        \n",
    "    elif target == \"Mode_of_Shipment\":\n",
    "        bestModel = bestModelForFeature_3\n",
    "    \n",
    "    '''\n",
    "    if bestModel == 'Gradient Boosting':\n",
    "        prediction = GridSearchs_1[0].predict(target)\n",
    "        \n",
    "    elif bestModel == 'Random Forest':\n",
    "        prediction = GridSearchs_1[1].predict(target)\n",
    "        \n",
    "    elif bestModel == 'KNeighbors':\n",
    "        prediction = GridSearchs_1[2].predict(target)\n",
    "        \n",
    "    return prediction\n",
    "    '''\n",
    "    \n",
    "    return bestModel"
   ]
  },
  {
   "cell_type": "markdown",
   "id": "a249679f",
   "metadata": {},
   "source": [
    "# Start the main program"
   ]
  },
  {
   "cell_type": "code",
   "execution_count": null,
   "id": "59bb3938",
   "metadata": {},
   "outputs": [],
   "source": [
    "#define the main function that will include the main logic of the program\n",
    "def main():\n",
    "    \n",
    "    #show welcom message\n",
    "    print(\"\\n --------------------------------  Welcome to the Shipping Program  --------------------------------- \",\n",
    "          \"\\n|                                                                                                    |\",\n",
    "          \"\\n| You can choose your target, enter other details, and get an accurate prediction about the shipment!|\",\n",
    "          \"\\n|                                                                                                    |\")\n",
    "    \n",
    "    userChoice = 20 #give arbitrary number to enter the loop (not 0 because 0 will exit the program later)\n",
    "\n",
    "    while userChoice!=0: #wile the user doesn't choose to exit the program\n",
    "\n",
    "        userChoice = menu() #display the program menu\n",
    "\n",
    "        if userChoice!=0 and userChoice!=1 and userChoice!=2 and userChoice!=3: \n",
    "            print(\"Please enter a valid number\\n\\n\")\n",
    "            userChoice = menu()\n",
    "            \n",
    "        #if the user choose to predict \"Reached.on.Time_Y.N\" feature.\n",
    "        if userChoice == 1:\n",
    "            target = \"Reached.on.Time_Y.N\"\n",
    "            #prediction = predictTarget(target)\n",
    "            bestModel = predictTarget(target)\n",
    "\n",
    "        #if the user choose to predict \"Product_importance\" feature. \n",
    "        elif userChoice == 2:\n",
    "            target = \"Product_importance\"\n",
    "            #prediction = predictTarget(target)\n",
    "            bestModel = predictTarget(target)\n",
    "\n",
    "        #if the user choose to predict \"Mode_of_Shipment\" feature.    \n",
    "        elif userChoice == 3:\n",
    "            target = \"Mode_of_Shipment\"\n",
    "            #prediction = predictTarget(target)\n",
    "            bestModel = predictTarget(target)\n",
    "\n",
    "        print(\"The best model to predict the \",target,\" is \",bestModel)\n",
    "\n",
    "    print(\" -------------------- Thanks for using Shipping program! Hope to see you again :) ------------------- \")\n",
    "    \n",
    "#call the main function that will start the program\n",
    "main()"
   ]
  },
  {
   "cell_type": "code",
   "execution_count": null,
   "id": "96d41087",
   "metadata": {},
   "outputs": [],
   "source": []
  }
 ],
 "metadata": {
  "kernelspec": {
   "display_name": "Python 3 (ipykernel)",
   "language": "python",
   "name": "python3"
  },
  "language_info": {
   "codemirror_mode": {
    "name": "ipython",
    "version": 3
   },
   "file_extension": ".py",
   "mimetype": "text/x-python",
   "name": "python",
   "nbconvert_exporter": "python",
   "pygments_lexer": "ipython3",
   "version": "3.9.12"
  }
 },
 "nbformat": 4,
 "nbformat_minor": 5
}
